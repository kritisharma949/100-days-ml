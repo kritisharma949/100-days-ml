{
 "cells": [
  {
   "cell_type": "code",
   "execution_count": 3,
   "metadata": {},
   "outputs": [],
   "source": [
    "import pandas as pd"
   ]
  },
  {
   "cell_type": "markdown",
   "metadata": {},
   "source": [
    "# How big is the data?"
   ]
  },
  {
   "cell_type": "code",
   "execution_count": 5,
   "metadata": {},
   "outputs": [
    {
     "data": {
      "text/plain": [
       "(9420, 8)"
      ]
     },
     "execution_count": 5,
     "metadata": {},
     "output_type": "execute_result"
    }
   ],
   "source": [
    "df=pd.read_csv('/Users/kritisharma/100 days ml/movies.csv')\n",
    "df.shape"
   ]
  },
  {
   "cell_type": "markdown",
   "metadata": {},
   "source": [
    "How does the data look like?"
   ]
  },
  {
   "cell_type": "code",
   "execution_count": 8,
   "metadata": {},
   "outputs": [
    {
     "data": {
      "text/html": [
       "<div>\n",
       "<style scoped>\n",
       "    .dataframe tbody tr th:only-of-type {\n",
       "        vertical-align: middle;\n",
       "    }\n",
       "\n",
       "    .dataframe tbody tr th {\n",
       "        vertical-align: top;\n",
       "    }\n",
       "\n",
       "    .dataframe thead th {\n",
       "        text-align: right;\n",
       "    }\n",
       "</style>\n",
       "<table border=\"1\" class=\"dataframe\">\n",
       "  <thead>\n",
       "    <tr style=\"text-align: right;\">\n",
       "      <th></th>\n",
       "      <th>Unnamed: 0</th>\n",
       "      <th>id</th>\n",
       "      <th>title</th>\n",
       "      <th>release_date</th>\n",
       "      <th>overview</th>\n",
       "      <th>popularity</th>\n",
       "      <th>vote_average</th>\n",
       "      <th>vote_count</th>\n",
       "    </tr>\n",
       "  </thead>\n",
       "  <tbody>\n",
       "    <tr>\n",
       "      <th>49</th>\n",
       "      <td>49</td>\n",
       "      <td>569094</td>\n",
       "      <td>Spider-Man: Across the Spider-Verse</td>\n",
       "      <td>2023-05-31</td>\n",
       "      <td>After reuniting with Gwen Stacy, Brooklyn’s fu...</td>\n",
       "      <td>184.071</td>\n",
       "      <td>8.363</td>\n",
       "      <td>6341</td>\n",
       "    </tr>\n",
       "    <tr>\n",
       "      <th>5943</th>\n",
       "      <td>5943</td>\n",
       "      <td>9992</td>\n",
       "      <td>Arthur and the Invisibles</td>\n",
       "      <td>2006-12-13</td>\n",
       "      <td>Arthur is a spirited ten-year old whose parent...</td>\n",
       "      <td>27.854</td>\n",
       "      <td>6.390</td>\n",
       "      <td>2794</td>\n",
       "    </tr>\n",
       "    <tr>\n",
       "      <th>8669</th>\n",
       "      <td>8669</td>\n",
       "      <td>14435</td>\n",
       "      <td>My Bloody Valentine</td>\n",
       "      <td>2009-01-16</td>\n",
       "      <td>Ten years after a Valentine's Day tragedy clai...</td>\n",
       "      <td>17.935</td>\n",
       "      <td>5.531</td>\n",
       "      <td>1122</td>\n",
       "    </tr>\n",
       "    <tr>\n",
       "      <th>5416</th>\n",
       "      <td>5416</td>\n",
       "      <td>553604</td>\n",
       "      <td>Honest Thief</td>\n",
       "      <td>2020-09-03</td>\n",
       "      <td>A bank robber tries to turn himself in because...</td>\n",
       "      <td>43.205</td>\n",
       "      <td>6.502</td>\n",
       "      <td>1659</td>\n",
       "    </tr>\n",
       "    <tr>\n",
       "      <th>635</th>\n",
       "      <td>635</td>\n",
       "      <td>1480</td>\n",
       "      <td>Touch of Evil</td>\n",
       "      <td>1958-03-30</td>\n",
       "      <td>When a car bomb explodes on the American side ...</td>\n",
       "      <td>58.143</td>\n",
       "      <td>7.770</td>\n",
       "      <td>1370</td>\n",
       "    </tr>\n",
       "  </tbody>\n",
       "</table>\n",
       "</div>"
      ],
      "text/plain": [
       "      Unnamed: 0      id                                title release_date  \\\n",
       "49            49  569094  Spider-Man: Across the Spider-Verse   2023-05-31   \n",
       "5943        5943    9992            Arthur and the Invisibles   2006-12-13   \n",
       "8669        8669   14435                  My Bloody Valentine   2009-01-16   \n",
       "5416        5416  553604                         Honest Thief   2020-09-03   \n",
       "635          635    1480                        Touch of Evil   1958-03-30   \n",
       "\n",
       "                                               overview  popularity  \\\n",
       "49    After reuniting with Gwen Stacy, Brooklyn’s fu...     184.071   \n",
       "5943  Arthur is a spirited ten-year old whose parent...      27.854   \n",
       "8669  Ten years after a Valentine's Day tragedy clai...      17.935   \n",
       "5416  A bank robber tries to turn himself in because...      43.205   \n",
       "635   When a car bomb explodes on the American side ...      58.143   \n",
       "\n",
       "      vote_average  vote_count  \n",
       "49           8.363        6341  \n",
       "5943         6.390        2794  \n",
       "8669         5.531        1122  \n",
       "5416         6.502        1659  \n",
       "635          7.770        1370  "
      ]
     },
     "execution_count": 8,
     "metadata": {},
     "output_type": "execute_result"
    }
   ],
   "source": [
    "# df.head()\n",
    "df.sample(5)"
   ]
  },
  {
   "cell_type": "markdown",
   "metadata": {},
   "source": [
    "#What is the data type of columns?\n"
   ]
  },
  {
   "cell_type": "code",
   "execution_count": 10,
   "metadata": {},
   "outputs": [
    {
     "name": "stdout",
     "output_type": "stream",
     "text": [
      "<class 'pandas.core.frame.DataFrame'>\n",
      "RangeIndex: 9420 entries, 0 to 9419\n",
      "Data columns (total 8 columns):\n",
      " #   Column        Non-Null Count  Dtype  \n",
      "---  ------        --------------  -----  \n",
      " 0   Unnamed: 0    9420 non-null   int64  \n",
      " 1   id            9420 non-null   int64  \n",
      " 2   title         9420 non-null   object \n",
      " 3   release_date  9420 non-null   object \n",
      " 4   overview      9419 non-null   object \n",
      " 5   popularity    9420 non-null   float64\n",
      " 6   vote_average  9420 non-null   float64\n",
      " 7   vote_count    9420 non-null   int64  \n",
      "dtypes: float64(2), int64(3), object(3)\n",
      "memory usage: 588.9+ KB\n"
     ]
    }
   ],
   "source": [
    "df.info()"
   ]
  },
  {
   "cell_type": "markdown",
   "metadata": {},
   "source": [
    "# Are ther any missing values?"
   ]
  },
  {
   "cell_type": "code",
   "execution_count": 21,
   "metadata": {},
   "outputs": [
    {
     "data": {
      "text/plain": [
       "Unnamed: 0      0\n",
       "id              0\n",
       "title           0\n",
       "release_date    0\n",
       "overview        1\n",
       "popularity      0\n",
       "vote_average    0\n",
       "vote_count      0\n",
       "dtype: int64"
      ]
     },
     "execution_count": 21,
     "metadata": {},
     "output_type": "execute_result"
    }
   ],
   "source": [
    "df.isnull().sum()"
   ]
  },
  {
   "cell_type": "markdown",
   "metadata": {},
   "source": [
    "# How does the data look mathematically?"
   ]
  },
  {
   "cell_type": "code",
   "execution_count": 17,
   "metadata": {},
   "outputs": [
    {
     "data": {
      "text/html": [
       "<div>\n",
       "<style scoped>\n",
       "    .dataframe tbody tr th:only-of-type {\n",
       "        vertical-align: middle;\n",
       "    }\n",
       "\n",
       "    .dataframe tbody tr th {\n",
       "        vertical-align: top;\n",
       "    }\n",
       "\n",
       "    .dataframe thead th {\n",
       "        text-align: right;\n",
       "    }\n",
       "</style>\n",
       "<table border=\"1\" class=\"dataframe\">\n",
       "  <thead>\n",
       "    <tr style=\"text-align: right;\">\n",
       "      <th></th>\n",
       "      <th>Unnamed: 0</th>\n",
       "      <th>id</th>\n",
       "      <th>popularity</th>\n",
       "      <th>vote_average</th>\n",
       "      <th>vote_count</th>\n",
       "    </tr>\n",
       "  </thead>\n",
       "  <tbody>\n",
       "    <tr>\n",
       "      <th>count</th>\n",
       "      <td>9420.000000</td>\n",
       "      <td>9.420000e+03</td>\n",
       "      <td>9420.000000</td>\n",
       "      <td>9420.000000</td>\n",
       "      <td>9420.000000</td>\n",
       "    </tr>\n",
       "    <tr>\n",
       "      <th>mean</th>\n",
       "      <td>4709.500000</td>\n",
       "      <td>1.891198e+05</td>\n",
       "      <td>37.604428</td>\n",
       "      <td>6.634990</td>\n",
       "      <td>1971.972399</td>\n",
       "    </tr>\n",
       "    <tr>\n",
       "      <th>std</th>\n",
       "      <td>2719.464102</td>\n",
       "      <td>2.508921e+05</td>\n",
       "      <td>92.019477</td>\n",
       "      <td>0.786667</td>\n",
       "      <td>3100.188720</td>\n",
       "    </tr>\n",
       "    <tr>\n",
       "      <th>min</th>\n",
       "      <td>0.000000</td>\n",
       "      <td>2.000000e+00</td>\n",
       "      <td>0.023000</td>\n",
       "      <td>2.199000</td>\n",
       "      <td>300.000000</td>\n",
       "    </tr>\n",
       "    <tr>\n",
       "      <th>25%</th>\n",
       "      <td>2354.750000</td>\n",
       "      <td>1.006875e+04</td>\n",
       "      <td>16.829750</td>\n",
       "      <td>6.113750</td>\n",
       "      <td>466.000000</td>\n",
       "    </tr>\n",
       "    <tr>\n",
       "      <th>50%</th>\n",
       "      <td>4709.500000</td>\n",
       "      <td>3.677350e+04</td>\n",
       "      <td>23.335000</td>\n",
       "      <td>6.658000</td>\n",
       "      <td>840.000000</td>\n",
       "    </tr>\n",
       "    <tr>\n",
       "      <th>75%</th>\n",
       "      <td>7064.250000</td>\n",
       "      <td>3.459118e+05</td>\n",
       "      <td>34.727500</td>\n",
       "      <td>7.200000</td>\n",
       "      <td>1961.250000</td>\n",
       "    </tr>\n",
       "    <tr>\n",
       "      <th>max</th>\n",
       "      <td>9419.000000</td>\n",
       "      <td>1.212073e+06</td>\n",
       "      <td>4703.624000</td>\n",
       "      <td>8.700000</td>\n",
       "      <td>35824.000000</td>\n",
       "    </tr>\n",
       "  </tbody>\n",
       "</table>\n",
       "</div>"
      ],
      "text/plain": [
       "        Unnamed: 0            id   popularity  vote_average    vote_count\n",
       "count  9420.000000  9.420000e+03  9420.000000   9420.000000   9420.000000\n",
       "mean   4709.500000  1.891198e+05    37.604428      6.634990   1971.972399\n",
       "std    2719.464102  2.508921e+05    92.019477      0.786667   3100.188720\n",
       "min       0.000000  2.000000e+00     0.023000      2.199000    300.000000\n",
       "25%    2354.750000  1.006875e+04    16.829750      6.113750    466.000000\n",
       "50%    4709.500000  3.677350e+04    23.335000      6.658000    840.000000\n",
       "75%    7064.250000  3.459118e+05    34.727500      7.200000   1961.250000\n",
       "max    9419.000000  1.212073e+06  4703.624000      8.700000  35824.000000"
      ]
     },
     "execution_count": 17,
     "metadata": {},
     "output_type": "execute_result"
    }
   ],
   "source": [
    "df.describe()"
   ]
  },
  {
   "cell_type": "markdown",
   "metadata": {},
   "source": [
    "# Are there any dupicate values?"
   ]
  },
  {
   "cell_type": "code",
   "execution_count": 20,
   "metadata": {},
   "outputs": [
    {
     "data": {
      "text/plain": [
       "0"
      ]
     },
     "execution_count": 20,
     "metadata": {},
     "output_type": "execute_result"
    }
   ],
   "source": [
    "df.duplicated().sum(\n",
    ")"
   ]
  },
  {
   "cell_type": "markdown",
   "metadata": {
    "tags": [
     "parameters"
    ]
   },
   "source": [
    "How is the Correlation between columns?"
   ]
  },
  {
   "cell_type": "code",
   "execution_count": 29,
   "metadata": {},
   "outputs": [],
   "source": [
    "# df.corr()['vote_average']"
   ]
  },
  {
   "cell_type": "code",
   "execution_count": null,
   "metadata": {},
   "outputs": [],
   "source": []
  }
 ],
 "metadata": {
  "kernelspec": {
   "display_name": "Python 3 (ipykernel)",
   "language": "python",
   "name": "python3"
  },
  "language_info": {
   "codemirror_mode": {
    "name": "ipython",
    "version": 3
   },
   "file_extension": ".py",
   "mimetype": "text/x-python",
   "name": "python",
   "nbconvert_exporter": "python",
   "pygments_lexer": "ipython3",
   "version": "3.11.9"
  }
 },
 "nbformat": 4,
 "nbformat_minor": 2
}
